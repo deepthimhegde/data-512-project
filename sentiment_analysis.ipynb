{
 "cells": [
  {
   "cell_type": "markdown",
   "metadata": {},
   "source": [
    "# Twitter Sentiment Analysis: Self-driving cars\n",
    "\n",
    "DATA 512 - Human Centered Data Science <br>\n",
    "Fall 2019"
   ]
  },
  {
   "cell_type": "markdown",
   "metadata": {},
   "source": [
    "## Motivation\n",
    "\n",
    "A Self-driving car or an autonomous car is a vehicle that is capable of sensing it's environment and navigating safely in a given space with little or no human input [1]. Although self-driving as an early concept dates back to the 1920s,\n",
    "the first self-sufficient and truly autonomous cars appeared in the 1980s. Carnegie Mellon University's Navlab and ALV projects in 1984, and Mercedes-Benz and Bundeswehr University Munich's Eureka Prometheus Project in 1987 marked the beginning of a new era. But it wasn't until a decade ago that self-driving cars moved from the hands of government funded projects and challenges to private car manufacturers such as General Motors, Ford, BMW, Volkswagen, Mercedes Benz, Audi, Nissan, Toyota, and Volvo. By 2015, self-driving cars had become the topic of debate in households. \n",
    "\n",
    "Today, several breakthroughs and advancements later, we hear about how self-drivings cars are going to be a part and parcel of the very near future. Many companies, large and small, are racing to claim the crown of having solved level 5 autonomy. Autonomous driving start-ups are rampant in the Sillicon Valley and around the US at large. It's never been a better time for the field, yet the human aspect of self-driving cars is largely under studied. \n",
    "\n",
    "This project is an attempt to understand and analyse the general vibe around self-driving as expressed on Twitter from May 15, 2015 to May 31, 2015. This was around the time when news was flying about Google's self-driving test initiative - [Google to begin testing purpose-built self-driving cars on public roads](https://www.theguardian.com/technology/2015/may/15/google-testing-purpose-built-self-driving-cars-public-roads). Also around the same time were articles about accidents being caused by self-driving cars - [Self-driving car accidents revealed in California](https://www.bbc.com/news/technology-32691887).\n"
   ]
  },
  {
   "cell_type": "markdown",
   "metadata": {},
   "source": [
    "## Reporoducibility\n",
    "\n",
    "All the quantitative analyses shown in this notebook are easily reproducible with the right python packages and data provided in this repository. However, the qualitative analyses are a result of my personal research and inuition (and possible biases thereby). I have attached the relevant sources that support my claims and hypothesis to the best of my ability to help others audit and review my work and form independent conclusions. "
   ]
  },
  {
   "cell_type": "markdown",
   "metadata": {},
   "source": [
    "## Research Directions\n",
    "- What is the general sentiment of people around self-driving cars?\n",
    "- What promoted these opinions?\n",
    "- What are people talking about? Did the happenings around the world sway people in one direction or another?\n",
    "- Study of the type of words used to express positive and negative sentiment.\n"
   ]
  },
  {
   "cell_type": "markdown",
   "metadata": {},
   "source": [
    "### Thick Data Approach"
   ]
  },
  {
   "cell_type": "markdown",
   "metadata": {},
   "source": [
    "Here are some snippets collected from several top news agencies around the same time that is represented in this dataset. \n",
    "The dates of release of these articles is note worthy - \n",
    "- May 11, 2015, [BBC News](https://www.bbc.com/news/technology-32691887): \"Four out of the 48 self-driving cars on public roads in California have been involved in accidents in the last eight months, according to the state's Department of Motor Vehicles.\"\n",
    "- May 12, 2015, [The Economist](https://www.economist.com/the-economist-explains/2015/05/12/how-does-a-self-driving-car-work): \"Cars that can drive themselves, a staple of science-fiction, have started to appear on roads in real life.\"\n",
    "- May 15, 2015, [The Guardian](https://www.theguardian.com/technology/2015/may/15/google-testing-purpose-built-self-driving-cars-public-roads): \"Google’s prototype self-driving car pods will take to public roads for the first time around its headquarters in Mountain View, California this summer.\""
   ]
  },
  {
   "cell_type": "markdown",
   "metadata": {},
   "source": [
    "Following are some cherry picked examples of tweets from the dataset. Several of them seem to be reactions to happenings around the world. Highlighted in bold are the ones that seem to closely resemble news from the above 3 articles. \n",
    "\n",
    "- **\"There is an acceptable level of risk with all new technology, but the reality that people will die in autonomous car is hard to accept.\"** 😢\n",
    "- \"If Google maps can't keep up with road construction, how am I supposed to trust a driverless car to get around here?\" 😟\n",
    "- \"Audi gets first permit to test self-driving cars in California: Think twice next time you tailgate that new Audi…\"  😐\n",
    "- \"Google unveils driver-less car...can you see yourself buying an autonomous car?\" 😐\n",
    "- **\"Just saw Google self-driving car on I-34. It was painted green and blue.\"** 😐\n",
    "- \"Google should buy Tesla and Uber, mix a little autonomous car into the mix and solve all transportation problems.  #sentFromTraffic\" 😀\n",
    "- **\"Awesome! Google driverless cars will help the blind travel more often.\"** 😁\n",
    "- \"Autonomous vehicles could reduce traffic fatalities by 90%...I'm in!\" 😁\n",
    "\n",
    "                Legend: 😢: 1  😟: 2  😐: 3  😀: 4  😁: 5\n"
   ]
  },
  {
   "cell_type": "markdown",
   "metadata": {},
   "source": [
    "On digging a little more into articles on Waymo, Google's self-driving car division, during this time period, I found the following on [Wikipedia](https://en.wikipedia.org/wiki/Waymo) -\n",
    "\"In 2015, Google provided \"the world's first fully driverless ride on public roads\" to a legally blind friend of principal engineer Nathaniel Fairfield. The ride was taken by Steve Mahan, former CEO of the Santa Clara Valley Blind Center, in Austin, Texas. It was the first driverless ride that was on a public road and was not accompanied by a test driver or police escort. The car had no steering wheel or floor pedals.\"\n",
    "\n",
    "The tweet - _\"Awesome! Google driverless cars will help the blind travel more often.\"_ seems to be directly correlated with the above incident. "
   ]
  },
  {
   "cell_type": "markdown",
   "metadata": {},
   "source": [
    "### Quantitative Approach"
   ]
  },
  {
   "cell_type": "markdown",
   "metadata": {},
   "source": [
    "#### Getting started"
   ]
  },
  {
   "cell_type": "markdown",
   "metadata": {},
   "source": [
    "Let's begin by first importing all the necessary python libraries ..."
   ]
  },
  {
   "cell_type": "code",
   "execution_count": 1,
   "metadata": {},
   "outputs": [],
   "source": [
    "# Helper modules\n",
    "import pandas as pd\n",
    "import numpy as np\n",
    "from nltk.corpus import stopwords\n",
    "from nltk.tokenize import word_tokenize\n",
    "# from nltk.stem.lancaster import LancasterStemmer\n",
    "import re\n",
    "import string\n",
    "import codecs\n",
    "# Plotting modules\n",
    "import seaborn as sns\n",
    "from wordcloud import WordCloud, STOPWORDS\n",
    "import matplotlib.pyplot as plt\n",
    "%matplotlib inline\n",
    "\n",
    "import inflect\n",
    "p = inflect.engine()"
   ]
  },
  {
   "cell_type": "code",
   "execution_count": 2,
   "metadata": {},
   "outputs": [],
   "source": [
    "# Loading raw twitter sentiment file\n",
    "data_path = './Data/RawData/Twitter-sentiment-self-drive-DFE.csv'\n",
    "data = pd.read_csv(data_path, encoding = \"ISO-8859-1\")\n",
    "\n",
    "# Opening with codes since some special characters and emojis might be present in the data\n",
    "with codecs.open(data_path, 'r', encoding='utf-8', errors='ignore') as fdata:\n",
    "    data = pd.read_csv(fdata)\n",
    "    "
   ]
  },
  {
   "cell_type": "code",
   "execution_count": 3,
   "metadata": {},
   "outputs": [
    {
     "data": {
      "text/html": [
       "<div>\n",
       "<style scoped>\n",
       "    .dataframe tbody tr th:only-of-type {\n",
       "        vertical-align: middle;\n",
       "    }\n",
       "\n",
       "    .dataframe tbody tr th {\n",
       "        vertical-align: top;\n",
       "    }\n",
       "\n",
       "    .dataframe thead th {\n",
       "        text-align: right;\n",
       "    }\n",
       "</style>\n",
       "<table border=\"1\" class=\"dataframe\">\n",
       "  <thead>\n",
       "    <tr style=\"text-align: right;\">\n",
       "      <th></th>\n",
       "      <th>_unit_id</th>\n",
       "      <th>_golden</th>\n",
       "      <th>_unit_state</th>\n",
       "      <th>_trusted_judgments</th>\n",
       "      <th>_last_judgment_at</th>\n",
       "      <th>sentiment</th>\n",
       "      <th>sentiment:confidence</th>\n",
       "      <th>our_id</th>\n",
       "      <th>sentiment_gold</th>\n",
       "      <th>sentiment_gold_reason</th>\n",
       "      <th>text</th>\n",
       "    </tr>\n",
       "  </thead>\n",
       "  <tbody>\n",
       "    <tr>\n",
       "      <th>0</th>\n",
       "      <td>724227031</td>\n",
       "      <td>True</td>\n",
       "      <td>golden</td>\n",
       "      <td>236</td>\n",
       "      <td>NaN</td>\n",
       "      <td>5</td>\n",
       "      <td>0.7579</td>\n",
       "      <td>10001</td>\n",
       "      <td>5\\n4</td>\n",
       "      <td>Author is excited about the development of the...</td>\n",
       "      <td>Two places I'd invest all my money if I could:...</td>\n",
       "    </tr>\n",
       "    <tr>\n",
       "      <th>1</th>\n",
       "      <td>724227032</td>\n",
       "      <td>True</td>\n",
       "      <td>golden</td>\n",
       "      <td>231</td>\n",
       "      <td>NaN</td>\n",
       "      <td>5</td>\n",
       "      <td>0.8775</td>\n",
       "      <td>10002</td>\n",
       "      <td>5\\n4</td>\n",
       "      <td>Author is excited that driverless cars will be...</td>\n",
       "      <td>Awesome! Google driverless cars will help the ...</td>\n",
       "    </tr>\n",
       "    <tr>\n",
       "      <th>2</th>\n",
       "      <td>724227033</td>\n",
       "      <td>True</td>\n",
       "      <td>golden</td>\n",
       "      <td>233</td>\n",
       "      <td>NaN</td>\n",
       "      <td>2</td>\n",
       "      <td>0.6805</td>\n",
       "      <td>10003</td>\n",
       "      <td>2\\n1</td>\n",
       "      <td>The author is skeptical of the safety and reli...</td>\n",
       "      <td>If Google maps can't keep up with road constru...</td>\n",
       "    </tr>\n",
       "    <tr>\n",
       "      <th>3</th>\n",
       "      <td>724227034</td>\n",
       "      <td>True</td>\n",
       "      <td>golden</td>\n",
       "      <td>240</td>\n",
       "      <td>NaN</td>\n",
       "      <td>2</td>\n",
       "      <td>0.8820</td>\n",
       "      <td>10004</td>\n",
       "      <td>2\\n1</td>\n",
       "      <td>The author is skeptical of the project's value.</td>\n",
       "      <td>Autonomous cars seem way overhyped given the t...</td>\n",
       "    </tr>\n",
       "    <tr>\n",
       "      <th>4</th>\n",
       "      <td>724227035</td>\n",
       "      <td>True</td>\n",
       "      <td>golden</td>\n",
       "      <td>240</td>\n",
       "      <td>NaN</td>\n",
       "      <td>3</td>\n",
       "      <td>1.0000</td>\n",
       "      <td>10005</td>\n",
       "      <td>3</td>\n",
       "      <td>Author is making an observation without expres...</td>\n",
       "      <td>Just saw Google self-driving car on I-34. It w...</td>\n",
       "    </tr>\n",
       "  </tbody>\n",
       "</table>\n",
       "</div>"
      ],
      "text/plain": [
       "    _unit_id  _golden _unit_state  _trusted_judgments _last_judgment_at  \\\n",
       "0  724227031     True      golden                 236               NaN   \n",
       "1  724227032     True      golden                 231               NaN   \n",
       "2  724227033     True      golden                 233               NaN   \n",
       "3  724227034     True      golden                 240               NaN   \n",
       "4  724227035     True      golden                 240               NaN   \n",
       "\n",
       "  sentiment  sentiment:confidence  our_id sentiment_gold  \\\n",
       "0         5                0.7579   10001           5\\n4   \n",
       "1         5                0.8775   10002           5\\n4   \n",
       "2         2                0.6805   10003           2\\n1   \n",
       "3         2                0.8820   10004           2\\n1   \n",
       "4         3                1.0000   10005              3   \n",
       "\n",
       "                               sentiment_gold_reason  \\\n",
       "0  Author is excited about the development of the...   \n",
       "1  Author is excited that driverless cars will be...   \n",
       "2  The author is skeptical of the safety and reli...   \n",
       "3    The author is skeptical of the project's value.   \n",
       "4  Author is making an observation without expres...   \n",
       "\n",
       "                                                text  \n",
       "0  Two places I'd invest all my money if I could:...  \n",
       "1  Awesome! Google driverless cars will help the ...  \n",
       "2  If Google maps can't keep up with road constru...  \n",
       "3  Autonomous cars seem way overhyped given the t...  \n",
       "4  Just saw Google self-driving car on I-34. It w...  "
      ]
     },
     "execution_count": 3,
     "metadata": {},
     "output_type": "execute_result"
    }
   ],
   "source": [
    "data.head()"
   ]
  },
  {
   "cell_type": "markdown",
   "metadata": {},
   "source": [
    "We will only use 2 columns for this analysis - _sentiment_ and _text_"
   ]
  },
  {
   "cell_type": "code",
   "execution_count": 4,
   "metadata": {},
   "outputs": [],
   "source": [
    "# Extracting relevant columns from the raw data\n",
    "data = data[['sentiment', 'text']]"
   ]
  },
  {
   "cell_type": "code",
   "execution_count": 5,
   "metadata": {},
   "outputs": [
    {
     "data": {
      "text/plain": [
       "array(['5', '2', '3', 'not_relevant', '1', '4'], dtype=object)"
      ]
     },
     "execution_count": 5,
     "metadata": {},
     "output_type": "execute_result"
    }
   ],
   "source": [
    "data['sentiment'].unique()\n",
    "# Sentiment contains non-integer values"
   ]
  },
  {
   "cell_type": "code",
   "execution_count": 6,
   "metadata": {},
   "outputs": [],
   "source": [
    "# Removing rows which have sentiment value as 'not_relevant'\n",
    "data = data[data['sentiment']!='not_relevant']\n",
    "data['sentiment'] = data['sentiment'].astype('int')"
   ]
  },
  {
   "cell_type": "code",
   "execution_count": 7,
   "metadata": {},
   "outputs": [],
   "source": [
    "data = data.reset_index();\n"
   ]
  },
  {
   "cell_type": "code",
   "execution_count": 8,
   "metadata": {},
   "outputs": [
    {
     "data": {
      "text/html": [
       "<div>\n",
       "<style scoped>\n",
       "    .dataframe tbody tr th:only-of-type {\n",
       "        vertical-align: middle;\n",
       "    }\n",
       "\n",
       "    .dataframe tbody tr th {\n",
       "        vertical-align: top;\n",
       "    }\n",
       "\n",
       "    .dataframe thead th {\n",
       "        text-align: right;\n",
       "    }\n",
       "</style>\n",
       "<table border=\"1\" class=\"dataframe\">\n",
       "  <thead>\n",
       "    <tr style=\"text-align: right;\">\n",
       "      <th></th>\n",
       "      <th>sentiment</th>\n",
       "      <th>text</th>\n",
       "    </tr>\n",
       "  </thead>\n",
       "  <tbody>\n",
       "    <tr>\n",
       "      <th>0</th>\n",
       "      <td>5</td>\n",
       "      <td>Two places I'd invest all my money if I could:...</td>\n",
       "    </tr>\n",
       "    <tr>\n",
       "      <th>1</th>\n",
       "      <td>5</td>\n",
       "      <td>Awesome! Google driverless cars will help the ...</td>\n",
       "    </tr>\n",
       "    <tr>\n",
       "      <th>2</th>\n",
       "      <td>2</td>\n",
       "      <td>If Google maps can't keep up with road constru...</td>\n",
       "    </tr>\n",
       "    <tr>\n",
       "      <th>3</th>\n",
       "      <td>2</td>\n",
       "      <td>Autonomous cars seem way overhyped given the t...</td>\n",
       "    </tr>\n",
       "    <tr>\n",
       "      <th>4</th>\n",
       "      <td>3</td>\n",
       "      <td>Just saw Google self-driving car on I-34. It w...</td>\n",
       "    </tr>\n",
       "    <tr>\n",
       "      <th>5</th>\n",
       "      <td>3</td>\n",
       "      <td>Will driverless cars eventually replace taxi d...</td>\n",
       "    </tr>\n",
       "    <tr>\n",
       "      <th>6</th>\n",
       "      <td>5</td>\n",
       "      <td>Autonomous vehicles could reduce traffic fatal...</td>\n",
       "    </tr>\n",
       "    <tr>\n",
       "      <th>7</th>\n",
       "      <td>1</td>\n",
       "      <td>Driverless cars are not worth the risk.  Don't...</td>\n",
       "    </tr>\n",
       "    <tr>\n",
       "      <th>8</th>\n",
       "      <td>3</td>\n",
       "      <td>Driverless cars are now legal in Florida, Cali...</td>\n",
       "    </tr>\n",
       "    <tr>\n",
       "      <th>9</th>\n",
       "      <td>3</td>\n",
       "      <td>Audi is the first carmaker to get a license fr...</td>\n",
       "    </tr>\n",
       "    <tr>\n",
       "      <th>10</th>\n",
       "      <td>3</td>\n",
       "      <td>Audi says first car manufacturer in the world ...</td>\n",
       "    </tr>\n",
       "    <tr>\n",
       "      <th>11</th>\n",
       "      <td>4</td>\n",
       "      <td>The future! So buying one of these. ̢@CNET: A...</td>\n",
       "    </tr>\n",
       "    <tr>\n",
       "      <th>12</th>\n",
       "      <td>4</td>\n",
       "      <td>Audi is test driving their driverless car in T...</td>\n",
       "    </tr>\n",
       "    <tr>\n",
       "      <th>13</th>\n",
       "      <td>3</td>\n",
       "      <td>Audi to be first automaker in California to te...</td>\n",
       "    </tr>\n",
       "    <tr>\n",
       "      <th>14</th>\n",
       "      <td>3</td>\n",
       "      <td>̢@latimesautos: Audi gets first permit to tes...</td>\n",
       "    </tr>\n",
       "    <tr>\n",
       "      <th>15</th>\n",
       "      <td>3</td>\n",
       "      <td>Audi Gets Permit to Test Self-Driving Cars in ...</td>\n",
       "    </tr>\n",
       "    <tr>\n",
       "      <th>16</th>\n",
       "      <td>3</td>\n",
       "      <td>Google, Audi, Mercedes get California's first ...</td>\n",
       "    </tr>\n",
       "    <tr>\n",
       "      <th>17</th>\n",
       "      <td>3</td>\n",
       "      <td>Audi Gets First Permit to Test Driverless Cars...</td>\n",
       "    </tr>\n",
       "    <tr>\n",
       "      <th>18</th>\n",
       "      <td>3</td>\n",
       "      <td>Today state regs for autonomous cars go into e...</td>\n",
       "    </tr>\n",
       "    <tr>\n",
       "      <th>19</th>\n",
       "      <td>3</td>\n",
       "      <td>Audi gets first permit to test self-driving ca...</td>\n",
       "    </tr>\n",
       "    <tr>\n",
       "      <th>20</th>\n",
       "      <td>3</td>\n",
       "      <td>Audi Gets First Permit to Test Driverless Cars...</td>\n",
       "    </tr>\n",
       "    <tr>\n",
       "      <th>21</th>\n",
       "      <td>3</td>\n",
       "      <td>Audi Gets Permit to Test Self-Driving Cars in ...</td>\n",
       "    </tr>\n",
       "    <tr>\n",
       "      <th>22</th>\n",
       "      <td>3</td>\n",
       "      <td>̢Audi becomes first automaker given permit to...</td>\n",
       "    </tr>\n",
       "    <tr>\n",
       "      <th>23</th>\n",
       "      <td>3</td>\n",
       "      <td>Audi Snags First Permit To Test Self-Driving C...</td>\n",
       "    </tr>\n",
       "    <tr>\n",
       "      <th>24</th>\n",
       "      <td>3</td>\n",
       "      <td>Here we go! @Audi gets first permit to test se...</td>\n",
       "    </tr>\n",
       "    <tr>\n",
       "      <th>25</th>\n",
       "      <td>3</td>\n",
       "      <td>AGV (Automated Guided Vehicle)  @ TraPac Dock ...</td>\n",
       "    </tr>\n",
       "    <tr>\n",
       "      <th>26</th>\n",
       "      <td>3</td>\n",
       "      <td>AGV (Automated Guided Vehicle)  @ TraPac Dock ...</td>\n",
       "    </tr>\n",
       "    <tr>\n",
       "      <th>27</th>\n",
       "      <td>3</td>\n",
       "      <td>AGV (Automated Guided Vehicle) @ TraPac Dock h...</td>\n",
       "    </tr>\n",
       "    <tr>\n",
       "      <th>28</th>\n",
       "      <td>3</td>\n",
       "      <td>At the SAE On-Road Automated Vehicle Standards...</td>\n",
       "    </tr>\n",
       "    <tr>\n",
       "      <th>29</th>\n",
       "      <td>3</td>\n",
       "      <td>Not possible for blind people to drive an auto...</td>\n",
       "    </tr>\n",
       "    <tr>\n",
       "      <th>...</th>\n",
       "      <td>...</td>\n",
       "      <td>...</td>\n",
       "    </tr>\n",
       "    <tr>\n",
       "      <th>6913</th>\n",
       "      <td>2</td>\n",
       "      <td>The army of robot cars will eventually rise up...</td>\n",
       "    </tr>\n",
       "    <tr>\n",
       "      <th>6914</th>\n",
       "      <td>2</td>\n",
       "      <td>As long as I don't have to get one! RT Ann Arb...</td>\n",
       "    </tr>\n",
       "    <tr>\n",
       "      <th>6915</th>\n",
       "      <td>2</td>\n",
       "      <td>I don't see how self-driving cars will be safe...</td>\n",
       "    </tr>\n",
       "    <tr>\n",
       "      <th>6916</th>\n",
       "      <td>2</td>\n",
       "      <td>The bandwidth needed for all those #driverless...</td>\n",
       "    </tr>\n",
       "    <tr>\n",
       "      <th>6917</th>\n",
       "      <td>1</td>\n",
       "      <td>I can't see how automous cars won't cause a mi...</td>\n",
       "    </tr>\n",
       "    <tr>\n",
       "      <th>6918</th>\n",
       "      <td>2</td>\n",
       "      <td>keep the big brother stuff off the streets; ju...</td>\n",
       "    </tr>\n",
       "    <tr>\n",
       "      <th>6919</th>\n",
       "      <td>3</td>\n",
       "      <td>What if the #google self-driving car ran over ...</td>\n",
       "    </tr>\n",
       "    <tr>\n",
       "      <th>6920</th>\n",
       "      <td>1</td>\n",
       "      <td>you'll never get me in an autonomous vehicle. ...</td>\n",
       "    </tr>\n",
       "    <tr>\n",
       "      <th>6921</th>\n",
       "      <td>2</td>\n",
       "      <td>If the computer in a self driving car fails, w...</td>\n",
       "    </tr>\n",
       "    <tr>\n",
       "      <th>6922</th>\n",
       "      <td>1</td>\n",
       "      <td>I totally hate the idea of not driving my own ...</td>\n",
       "    </tr>\n",
       "    <tr>\n",
       "      <th>6923</th>\n",
       "      <td>2</td>\n",
       "      <td>Self-driving car tech is going to be totally u...</td>\n",
       "    </tr>\n",
       "    <tr>\n",
       "      <th>6924</th>\n",
       "      <td>2</td>\n",
       "      <td>Creeps me out the the Google car does not have...</td>\n",
       "    </tr>\n",
       "    <tr>\n",
       "      <th>6925</th>\n",
       "      <td>1</td>\n",
       "      <td>I'd never trust a self-driving car to take my ...</td>\n",
       "    </tr>\n",
       "    <tr>\n",
       "      <th>6926</th>\n",
       "      <td>2</td>\n",
       "      <td>Vehicles with no driver scare me. How could th...</td>\n",
       "    </tr>\n",
       "    <tr>\n",
       "      <th>6927</th>\n",
       "      <td>3</td>\n",
       "      <td>Ann Arbor Could Get Driverless Vehicles by 2021</td>\n",
       "    </tr>\n",
       "    <tr>\n",
       "      <th>6928</th>\n",
       "      <td>3</td>\n",
       "      <td>Saw the google car again today</td>\n",
       "    </tr>\n",
       "    <tr>\n",
       "      <th>6929</th>\n",
       "      <td>3</td>\n",
       "      <td>I wonder how insurance companies will handle a...</td>\n",
       "    </tr>\n",
       "    <tr>\n",
       "      <th>6930</th>\n",
       "      <td>3</td>\n",
       "      <td>Will police departments survive without speedi...</td>\n",
       "    </tr>\n",
       "    <tr>\n",
       "      <th>6931</th>\n",
       "      <td>3</td>\n",
       "      <td>I don't know what to think about self-driving ...</td>\n",
       "    </tr>\n",
       "    <tr>\n",
       "      <th>6932</th>\n",
       "      <td>3</td>\n",
       "      <td>Should Uber use driverless cars to ease safety...</td>\n",
       "    </tr>\n",
       "    <tr>\n",
       "      <th>6933</th>\n",
       "      <td>3</td>\n",
       "      <td>News story in @SeattleHerald has an update on ...</td>\n",
       "    </tr>\n",
       "    <tr>\n",
       "      <th>6934</th>\n",
       "      <td>3</td>\n",
       "      <td>We were passed by the #google self driving car...</td>\n",
       "    </tr>\n",
       "    <tr>\n",
       "      <th>6935</th>\n",
       "      <td>3</td>\n",
       "      <td>Two reports this week predict the timeline for...</td>\n",
       "    </tr>\n",
       "    <tr>\n",
       "      <th>6936</th>\n",
       "      <td>3</td>\n",
       "      <td>Not sure yet what to think about self-driving ...</td>\n",
       "    </tr>\n",
       "    <tr>\n",
       "      <th>6937</th>\n",
       "      <td>3</td>\n",
       "      <td>California is one of the states that allows se...</td>\n",
       "    </tr>\n",
       "    <tr>\n",
       "      <th>6938</th>\n",
       "      <td>3</td>\n",
       "      <td>Florida is one of a few states that allows tes...</td>\n",
       "    </tr>\n",
       "    <tr>\n",
       "      <th>6939</th>\n",
       "      <td>3</td>\n",
       "      <td>Many states still considering allowing self-dr...</td>\n",
       "    </tr>\n",
       "    <tr>\n",
       "      <th>6940</th>\n",
       "      <td>3</td>\n",
       "      <td>Heading to a tech conference which will focus ...</td>\n",
       "    </tr>\n",
       "    <tr>\n",
       "      <th>6941</th>\n",
       "      <td>3</td>\n",
       "      <td>Fully autonomous vehicles are one of many auto...</td>\n",
       "    </tr>\n",
       "    <tr>\n",
       "      <th>6942</th>\n",
       "      <td>3</td>\n",
       "      <td>A new study just commissioned to study the cos...</td>\n",
       "    </tr>\n",
       "  </tbody>\n",
       "</table>\n",
       "<p>6943 rows × 2 columns</p>\n",
       "</div>"
      ],
      "text/plain": [
       "      sentiment                                               text\n",
       "0             5  Two places I'd invest all my money if I could:...\n",
       "1             5  Awesome! Google driverless cars will help the ...\n",
       "2             2  If Google maps can't keep up with road constru...\n",
       "3             2  Autonomous cars seem way overhyped given the t...\n",
       "4             3  Just saw Google self-driving car on I-34. It w...\n",
       "5             3  Will driverless cars eventually replace taxi d...\n",
       "6             5  Autonomous vehicles could reduce traffic fatal...\n",
       "7             1  Driverless cars are not worth the risk.  Don't...\n",
       "8             3  Driverless cars are now legal in Florida, Cali...\n",
       "9             3  Audi is the first carmaker to get a license fr...\n",
       "10            3  Audi says first car manufacturer in the world ...\n",
       "11            4  The future! So buying one of these. ̢@CNET: A...\n",
       "12            4  Audi is test driving their driverless car in T...\n",
       "13            3  Audi to be first automaker in California to te...\n",
       "14            3  ̢@latimesautos: Audi gets first permit to tes...\n",
       "15            3  Audi Gets Permit to Test Self-Driving Cars in ...\n",
       "16            3  Google, Audi, Mercedes get California's first ...\n",
       "17            3  Audi Gets First Permit to Test Driverless Cars...\n",
       "18            3  Today state regs for autonomous cars go into e...\n",
       "19            3  Audi gets first permit to test self-driving ca...\n",
       "20            3  Audi Gets First Permit to Test Driverless Cars...\n",
       "21            3  Audi Gets Permit to Test Self-Driving Cars in ...\n",
       "22            3  ̢Audi becomes first automaker given permit to...\n",
       "23            3  Audi Snags First Permit To Test Self-Driving C...\n",
       "24            3  Here we go! @Audi gets first permit to test se...\n",
       "25            3  AGV (Automated Guided Vehicle)  @ TraPac Dock ...\n",
       "26            3  AGV (Automated Guided Vehicle)  @ TraPac Dock ...\n",
       "27            3  AGV (Automated Guided Vehicle) @ TraPac Dock h...\n",
       "28            3  At the SAE On-Road Automated Vehicle Standards...\n",
       "29            3  Not possible for blind people to drive an auto...\n",
       "...         ...                                                ...\n",
       "6913          2  The army of robot cars will eventually rise up...\n",
       "6914          2  As long as I don't have to get one! RT Ann Arb...\n",
       "6915          2  I don't see how self-driving cars will be safe...\n",
       "6916          2  The bandwidth needed for all those #driverless...\n",
       "6917          1  I can't see how automous cars won't cause a mi...\n",
       "6918          2  keep the big brother stuff off the streets; ju...\n",
       "6919          3  What if the #google self-driving car ran over ...\n",
       "6920          1  you'll never get me in an autonomous vehicle. ...\n",
       "6921          2  If the computer in a self driving car fails, w...\n",
       "6922          1  I totally hate the idea of not driving my own ...\n",
       "6923          2  Self-driving car tech is going to be totally u...\n",
       "6924          2  Creeps me out the the Google car does not have...\n",
       "6925          1  I'd never trust a self-driving car to take my ...\n",
       "6926          2  Vehicles with no driver scare me. How could th...\n",
       "6927          3    Ann Arbor Could Get Driverless Vehicles by 2021\n",
       "6928          3                     Saw the google car again today\n",
       "6929          3  I wonder how insurance companies will handle a...\n",
       "6930          3  Will police departments survive without speedi...\n",
       "6931          3  I don't know what to think about self-driving ...\n",
       "6932          3  Should Uber use driverless cars to ease safety...\n",
       "6933          3  News story in @SeattleHerald has an update on ...\n",
       "6934          3  We were passed by the #google self driving car...\n",
       "6935          3  Two reports this week predict the timeline for...\n",
       "6936          3  Not sure yet what to think about self-driving ...\n",
       "6937          3  California is one of the states that allows se...\n",
       "6938          3  Florida is one of a few states that allows tes...\n",
       "6939          3  Many states still considering allowing self-dr...\n",
       "6940          3  Heading to a tech conference which will focus ...\n",
       "6941          3  Fully autonomous vehicles are one of many auto...\n",
       "6942          3  A new study just commissioned to study the cos...\n",
       "\n",
       "[6943 rows x 2 columns]"
      ]
     },
     "execution_count": 8,
     "metadata": {},
     "output_type": "execute_result"
    }
   ],
   "source": [
    "data = data.drop(['index'], axis=1)\n",
    "data"
   ]
  },
  {
   "cell_type": "markdown",
   "metadata": {},
   "source": [
    "Let's create a new column that contains: <br>\n",
    "- -1 indicating negative polarity of sentiment (i.e. sentiment value of 1 or 2) <br>\n",
    "- +1 indicating positive polarity of sentiment (i.e. sentiment value of 4 or 5) or <br> \n",
    "- 0 indicating neutral polarity of sentiment (i.e. sentiment value of 3)"
   ]
  },
  {
   "cell_type": "code",
   "execution_count": 9,
   "metadata": {},
   "outputs": [],
   "source": [
    "def assign_polarity(row):\n",
    "    if row['sentiment'] < 3: \n",
    "        return -1 \n",
    "    elif row['sentiment'] > 3:\n",
    "        return 1\n",
    "    else:\n",
    "        return 0"
   ]
  },
  {
   "cell_type": "code",
   "execution_count": 10,
   "metadata": {},
   "outputs": [],
   "source": [
    "# Assign positive, negative, neutral polarity to each tweet\n",
    "data['polarity'] = data.apply(lambda row: assign_polarity(row), axis=1)"
   ]
  },
  {
   "cell_type": "code",
   "execution_count": 11,
   "metadata": {},
   "outputs": [
    {
     "data": {
      "text/html": [
       "<div>\n",
       "<style scoped>\n",
       "    .dataframe tbody tr th:only-of-type {\n",
       "        vertical-align: middle;\n",
       "    }\n",
       "\n",
       "    .dataframe tbody tr th {\n",
       "        vertical-align: top;\n",
       "    }\n",
       "\n",
       "    .dataframe thead th {\n",
       "        text-align: right;\n",
       "    }\n",
       "</style>\n",
       "<table border=\"1\" class=\"dataframe\">\n",
       "  <thead>\n",
       "    <tr style=\"text-align: right;\">\n",
       "      <th></th>\n",
       "      <th>sentiment</th>\n",
       "      <th>text</th>\n",
       "      <th>polarity</th>\n",
       "    </tr>\n",
       "  </thead>\n",
       "  <tbody>\n",
       "    <tr>\n",
       "      <th>0</th>\n",
       "      <td>5</td>\n",
       "      <td>Two places I'd invest all my money if I could:...</td>\n",
       "      <td>1</td>\n",
       "    </tr>\n",
       "    <tr>\n",
       "      <th>1</th>\n",
       "      <td>5</td>\n",
       "      <td>Awesome! Google driverless cars will help the ...</td>\n",
       "      <td>1</td>\n",
       "    </tr>\n",
       "    <tr>\n",
       "      <th>2</th>\n",
       "      <td>2</td>\n",
       "      <td>If Google maps can't keep up with road constru...</td>\n",
       "      <td>-1</td>\n",
       "    </tr>\n",
       "    <tr>\n",
       "      <th>3</th>\n",
       "      <td>2</td>\n",
       "      <td>Autonomous cars seem way overhyped given the t...</td>\n",
       "      <td>-1</td>\n",
       "    </tr>\n",
       "    <tr>\n",
       "      <th>4</th>\n",
       "      <td>3</td>\n",
       "      <td>Just saw Google self-driving car on I-34. It w...</td>\n",
       "      <td>0</td>\n",
       "    </tr>\n",
       "  </tbody>\n",
       "</table>\n",
       "</div>"
      ],
      "text/plain": [
       "   sentiment                                               text  polarity\n",
       "0          5  Two places I'd invest all my money if I could:...         1\n",
       "1          5  Awesome! Google driverless cars will help the ...         1\n",
       "2          2  If Google maps can't keep up with road constru...        -1\n",
       "3          2  Autonomous cars seem way overhyped given the t...        -1\n",
       "4          3  Just saw Google self-driving car on I-34. It w...         0"
      ]
     },
     "execution_count": 11,
     "metadata": {},
     "output_type": "execute_result"
    }
   ],
   "source": [
    "data.head()"
   ]
  },
  {
   "cell_type": "code",
   "execution_count": 12,
   "metadata": {},
   "outputs": [],
   "source": [
    "# Saving cleaned data to file\n",
    "data.to_csv('./Data/cleaned_data.csv', index=False)"
   ]
  },
  {
   "cell_type": "markdown",
   "metadata": {},
   "source": [
    "The preprocessing code is derived from code made available by Anil Emrah in this [post](https://medium.com/analytics-vidhya/basic-tweet-preprocessing-method-with-python-56b4e53854a1)."
   ]
  },
  {
   "cell_type": "code",
   "execution_count": 13,
   "metadata": {},
   "outputs": [],
   "source": [
    "def preprocess_tweet(text):\n",
    "    # Check characters to see if they are in punctuation\n",
    "    nopunc = [char for char in text if char not in string.punctuation]\n",
    "    # Join the characters again to form the string.\n",
    "    nopunc = ''.join(nopunc) \n",
    "    # convert text to lower-case\n",
    "    nopunc = nopunc.lower()\n",
    "    # remove URLs\n",
    "    nopunc = re.sub('((www\\.[^\\s]+)|(https?://[^\\s]+)|(http?://[^\\s]+))', '', nopunc)\n",
    "    nopunc = re.sub(r'http\\S+', '', nopunc)\n",
    "    # remove usernames\n",
    "    nopunc = re.sub('@[^\\s]+', '', nopunc)\n",
    "    nopunc = re.sub('̢[^\\s]+', '', nopunc)\n",
    "    # remove the # in #hashtag\n",
    "    nopunc = re.sub(r'#([^\\s]+)', r'\\1', nopunc)\n",
    "    # remove repeated characters\n",
    "    nopunc = word_tokenize(nopunc)\n",
    "\n",
    "    # remove stopwords from final word list\n",
    "    #nopunc = ' '.join(word for word in nopunc if word not in stopwords.words('english'))\n",
    "    output = ''\n",
    "    for word in nopunc:\n",
    "        if word not in stopwords.words('english'):\n",
    "            if p.singular_noun(word):\n",
    "                output += ' ' + p.singular_noun(word)\n",
    "            else:\n",
    "                output += ' ' + word\n",
    "    return output"
   ]
  },
  {
   "cell_type": "code",
   "execution_count": null,
   "metadata": {},
   "outputs": [],
   "source": [
    "data['text'] = data['text'].apply(preprocess_tweet)\n"
   ]
  },
  {
   "cell_type": "code",
   "execution_count": null,
   "metadata": {},
   "outputs": [],
   "source": [
    "data.head()"
   ]
  },
  {
   "cell_type": "markdown",
   "metadata": {},
   "source": [
    "### Plot of distribution of sentiment on a scale of 1-5 "
   ]
  },
  {
   "cell_type": "code",
   "execution_count": null,
   "metadata": {},
   "outputs": [],
   "source": [
    "ax = sns.countplot(x='sentiment', data=data, color='salmon')\n",
    "ax.set_title('Distribution of sentiment')"
   ]
  },
  {
   "cell_type": "markdown",
   "metadata": {},
   "source": [
    "### Plot of distribution of polarity(+1, 0, -1)"
   ]
  },
  {
   "cell_type": "code",
   "execution_count": null,
   "metadata": {},
   "outputs": [],
   "source": [
    "ax = sns.countplot(x='polarity', data=data, color='salmon')\n",
    "ax.set_title('Distribution of polarity')"
   ]
  },
  {
   "cell_type": "markdown",
   "metadata": {},
   "source": [
    "From the above plots, we see that the sentiment is positively skewed. "
   ]
  },
  {
   "cell_type": "markdown",
   "metadata": {},
   "source": [
    "### WORD CLOUDS\n"
   ]
  },
  {
   "cell_type": "code",
   "execution_count": null,
   "metadata": {},
   "outputs": [],
   "source": [
    "df_positive = data[data['polarity']==1]\n",
    "df_negative = data[data['polarity']==-1]\n",
    "df_neutral = data[data['polarity']==0]"
   ]
  },
  {
   "cell_type": "code",
   "execution_count": null,
   "metadata": {},
   "outputs": [],
   "source": [
    "stop_words = set(STOPWORDS)\n",
    "pos = (' '.join(df_positive['text']))\n",
    "\n",
    "wordcloud = WordCloud(width = 1000, height = 500, stopwords=stop_words).generate(pos)\n",
    "plt.figure(figsize=(15,5))\n",
    "plt.imshow(wordcloud)\n",
    "plt.axis('off')"
   ]
  },
  {
   "cell_type": "code",
   "execution_count": null,
   "metadata": {},
   "outputs": [],
   "source": [
    "stop_words = set(STOPWORDS)\n",
    "neg = (' '.join(df_negative['text']))\n",
    "\n",
    "wordcloud = WordCloud(width = 1000, height = 500, stopwords=stop_words).generate(neg)\n",
    "plt.figure(figsize=(15,5))\n",
    "plt.imshow(wordcloud)\n",
    "plt.axis('off')"
   ]
  },
  {
   "cell_type": "code",
   "execution_count": null,
   "metadata": {},
   "outputs": [],
   "source": [
    "stop_words = set(STOPWORDS)\n",
    "neut = (' '.join(df_neutral['text']))\n",
    "\n",
    "wordcloud = WordCloud(width = 1000, height = 500, stopwords=stop_words).generate(neut)\n",
    "plt.figure(figsize=(15,5))\n",
    "plt.imshow(wordcloud)\n",
    "plt.axis('off')"
   ]
  },
  {
   "cell_type": "code",
   "execution_count": null,
   "metadata": {},
   "outputs": [],
   "source": [
    "from collections import Counter \n",
    "\n",
    "def plot_top_k_words(k, df, title):\n",
    "\n",
    "    #Get words\n",
    "    tokens = []\n",
    "    for index, rows in df.iterrows(): \n",
    "        # Create list for the current row \n",
    "        tokens.extend(rows.text.split()) \n",
    "\n",
    "    counter = Counter(tokens) \n",
    "    #top-k frequency words\n",
    "    most_occurring = counter.most_common(k) \n",
    "\n",
    "    print(most_occurring)\n",
    "\n",
    "    plt.figure(figsize=(14,7))\n",
    "    top_k = pd.DataFrame(most_occurring, columns=['word','frequency'])\n",
    "    ax = sns.barplot(x=\"word\", y='frequency', data=top_k)\n",
    "    ax.set_title(title)\n",
    "    loc, labels = plt.xticks()\n",
    "    ax.set_xticklabels(labels, rotation=30);"
   ]
  },
  {
   "cell_type": "markdown",
   "metadata": {},
   "source": [
    "### Top 20 word-frequencies"
   ]
  },
  {
   "cell_type": "code",
   "execution_count": null,
   "metadata": {},
   "outputs": [],
   "source": [
    "k = 20\n",
    "plot_top_k_words(k, data, 'Top 20 word frequencies across all tweets')"
   ]
  },
  {
   "cell_type": "code",
   "execution_count": null,
   "metadata": {},
   "outputs": [],
   "source": [
    "plot_top_k_words(k, df_positive, 'Top 20 word frequencies for positive tweets')"
   ]
  },
  {
   "cell_type": "code",
   "execution_count": null,
   "metadata": {},
   "outputs": [],
   "source": [
    "plot_top_k_words(k, df_negative, 'Top 20 word frequencies for negative tweets')"
   ]
  },
  {
   "cell_type": "code",
   "execution_count": null,
   "metadata": {},
   "outputs": [],
   "source": [
    "plot_top_k_words(k, df_neutral, 'Top 20 word frequencies for neutral tweets')"
   ]
  },
  {
   "cell_type": "markdown",
   "metadata": {},
   "source": [
    "**Google** features as the most frequent word, ignoring 'car'(which is a generic and uninteresting). <br>\n",
    "Another interesting aspect is words like 'want' and 'future' emerge as top used words for positive tweets indicating that these might be people who would like to own a selfdriving car and see it as a part of the future. <br>\n",
    "Interestingly, Uber appears within top 10 words among neutral tweets. "
   ]
  },
  {
   "cell_type": "markdown",
   "metadata": {},
   "source": [
    "### Conclusion"
   ]
  },
  {
   "cell_type": "markdown",
   "metadata": {},
   "source": [
    "- A drawback of qualitative analysis is that we can only speculate. We cannot establish statistical statistical significance or arrive at causal conclusions. \n",
    "- However, it is a helpful tool in gathering evidence about a hypothesis to convince oneself, \n",
    "especially around complex nuances of the world which are hard to model.\n",
    "- Addressing the questions we set out to answer - \n",
    "    - What is the general sentiment of people around self-driving cars? **Positive skewed**\n",
    "    - What promoted these opinions? **Google's self-driving test launch and accidents in California (self-certified speculation)**\n",
    "    - What are people talking about? **Google**"
   ]
  },
  {
   "cell_type": "markdown",
   "metadata": {},
   "source": [
    "## References"
   ]
  },
  {
   "cell_type": "markdown",
   "metadata": {},
   "source": [
    "\n",
    "[1] [Governing autonomous vehicles: emerging responses for safety, liability, privacy, cybersecurity, and industry risks](https://www.tandfonline.com/doi/full/10.1080/01441647.2018.1494640) <br>\n",
    "[2] [Google to begin testing purpose-built self-driving cars on public roads](https://www.theguardian.com/technology/2015/may/15/google-testing-purpose-built-self-driving-cars-public-roads) <br>\n",
    "[3] [Self-driving car accidents revealed in California](https://www.bbc.com/news/technology-32691887) <br>\n",
    "[4] [How does a self-driving car work?](https://www.economist.com/the-economist-explains/2015/05/12/how-does-a-self-driving-car-work)"
   ]
  },
  {
   "cell_type": "code",
   "execution_count": null,
   "metadata": {},
   "outputs": [],
   "source": []
  }
 ],
 "metadata": {
  "kernelspec": {
   "display_name": "Python 3",
   "language": "python",
   "name": "python3"
  },
  "language_info": {
   "codemirror_mode": {
    "name": "ipython",
    "version": 3
   },
   "file_extension": ".py",
   "mimetype": "text/x-python",
   "name": "python",
   "nbconvert_exporter": "python",
   "pygments_lexer": "ipython3",
   "version": "3.6.5"
  }
 },
 "nbformat": 4,
 "nbformat_minor": 2
}
